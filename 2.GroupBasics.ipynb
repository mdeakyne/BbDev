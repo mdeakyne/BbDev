{
 "cells": [
  {
   "cell_type": "code",
   "execution_count": 1,
   "metadata": {},
   "outputs": [],
   "source": [
    "from connections import bb_session\n",
    "bb_s = bb_session()"
   ]
  },
  {
   "cell_type": "markdown",
   "metadata": {},
   "source": [
    "# Get Course Memberships\n",
    "The LTI Tool does the following\n",
    "* Pull membership information\n",
    "* Create a group for each unique child course\n",
    "* Enroll members in groups "
   ]
  },
  {
   "cell_type": "code",
   "execution_count": 17,
   "metadata": {},
   "outputs": [],
   "source": [
    "parentCourse = 'TST-Merge01'\n",
    "memberships = bb_s.get(f'v1/courses/courseId:{parentCourse}/users').json()['results']\n",
    "memberships = [(membership['userId'], membership.get('childCourseId', membership.get('courseId'))) \n",
    "                 for membership in memberships \n",
    "                 if membership['courseRoleId'] == 'Student']"
   ]
  },
  {
   "cell_type": "code",
   "execution_count": 18,
   "metadata": {},
   "outputs": [
    {
     "data": {
      "text/plain": [
       "[('_343656_1', '_273814_1'),\n",
       " ('_428988_1', '_273814_1'),\n",
       " ('_25264_1', '_273813_1'),\n",
       " ('_383704_1', '_273813_1')]"
      ]
     },
     "execution_count": 18,
     "metadata": {},
     "output_type": "execute_result"
    }
   ],
   "source": [
    "memberships"
   ]
  },
  {
   "cell_type": "code",
   "execution_count": 19,
   "metadata": {},
   "outputs": [
    {
     "data": {
      "text/plain": [
       "[{'userId': '_343656_1',\n",
       "  'courseId': '_273813_1',\n",
       "  'childCourseId': '_273814_1',\n",
       "  'dataSourceId': '_2_1',\n",
       "  'created': '2020-10-01T15:15:30.000Z',\n",
       "  'availability': {'available': 'Yes'},\n",
       "  'courseRoleId': 'Student'},\n",
       " {'userId': '_428988_1',\n",
       "  'courseId': '_273813_1',\n",
       "  'childCourseId': '_273814_1',\n",
       "  'dataSourceId': '_2_1',\n",
       "  'created': '2020-10-01T15:15:30.000Z',\n",
       "  'availability': {'available': 'Yes'},\n",
       "  'courseRoleId': 'Student'},\n",
       " {'userId': '_25264_1',\n",
       "  'courseId': '_273813_1',\n",
       "  'dataSourceId': '_2_1',\n",
       "  'created': '2020-10-01T15:15:30.000Z',\n",
       "  'availability': {'available': 'Yes'},\n",
       "  'courseRoleId': 'Student'},\n",
       " {'userId': '_383704_1',\n",
       "  'courseId': '_273813_1',\n",
       "  'dataSourceId': '_2_1',\n",
       "  'created': '2020-10-01T15:15:30.000Z',\n",
       "  'availability': {'available': 'Yes'},\n",
       "  'courseRoleId': 'Student'},\n",
       " {'userId': '_339517_1',\n",
       "  'courseId': '_273813_1',\n",
       "  'dataSourceId': '_2_1',\n",
       "  'created': '2020-10-01T15:01:16.000Z',\n",
       "  'availability': {'available': 'Yes'},\n",
       "  'courseRoleId': 'Instructor',\n",
       "  'lastAccessed': '2020-10-01T16:35:46.000Z'}]"
      ]
     },
     "execution_count": 19,
     "metadata": {},
     "output_type": "execute_result"
    }
   ],
   "source": [
    "bb_s.get(f'v1/courses/courseId:{parentCourse}/users').json()['results']"
   ]
  },
  {
   "cell_type": "code",
   "execution_count": null,
   "metadata": {},
   "outputs": [],
   "source": []
  }
 ],
 "metadata": {
  "kernelspec": {
   "display_name": "Python 3",
   "language": "python",
   "name": "python3"
  },
  "language_info": {
   "codemirror_mode": {
    "name": "ipython",
    "version": 3
   },
   "file_extension": ".py",
   "mimetype": "text/x-python",
   "name": "python",
   "nbconvert_exporter": "python",
   "pygments_lexer": "ipython3",
   "version": "3.8.5"
  }
 },
 "nbformat": 4,
 "nbformat_minor": 4
}
