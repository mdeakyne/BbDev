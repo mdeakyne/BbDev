{
 "cells": [
  {
   "cell_type": "code",
   "execution_count": 27,
   "metadata": {},
   "outputs": [],
   "source": [
    "from connections import bb_session\n",
    "bb_s = bb_session()"
   ]
  },
  {
   "cell_type": "markdown",
   "metadata": {},
   "source": [
    "# Get Course Memberships\n",
    "The LTI Tool does the following\n",
    "* Pull membership information\n",
    "* Create a group for each unique child course\n",
    "* Enroll members in groups "
   ]
  },
  {
   "cell_type": "code",
   "execution_count": 46,
   "metadata": {},
   "outputs": [],
   "source": [
    "# Pull membership information from parent course\n",
    "parentCourse = 'TST-Merge01'\n",
    "memberships = bb_s.get(f'v1/courses/courseId:{parentCourse}/users').json()['results']\n",
    "memberships = [(membership['userId'], membership.get('childCourseId', membership.get('courseId'))) \n",
    "                 for membership in memberships \n",
    "                 if membership['courseRoleId'] == 'Student']"
   ]
  },
  {
   "cell_type": "code",
   "execution_count": 47,
   "metadata": {},
   "outputs": [
    {
     "name": "stdout",
     "output_type": "stream",
     "text": [
      "409\n",
      "409\n"
     ]
    }
   ],
   "source": [
    "# Create a group for each unique child course\n",
    "coursePks = set([member[1] for member in memberships])\n",
    "for courseId in coursePks:\n",
    "    course_info = bb_s.get(f'v2/courses/{courseId}').json()\n",
    "    group = {\n",
    "        'name':course_info['courseId'],\n",
    "        'externalId':course_info['courseId'],\n",
    "        'availability':{'available':'Yes'}\n",
    "    }\n",
    "    r = bb_s.post(f'v1/courses/courseId:{parentCourse}/groups', json=group)\n",
    "    print(r.status_code)"
   ]
  },
  {
   "cell_type": "code",
   "execution_count": 48,
   "metadata": {},
   "outputs": [
    {
     "name": "stdout",
     "output_type": "stream",
     "text": [
      "500\n",
      "500\n",
      "500\n",
      "500\n"
     ]
    }
   ],
   "source": [
    "# Enroll Members in Groups\n",
    "for member in memberships:\n",
    "    userId = member[0]\n",
    "    courseId = member[1]\n",
    "    groupId = bb_s.get(f'v2/courses/{courseId}').json()['courseId']\n",
    "    r = bb_s.put(f'v2/courses/courseId:{parentCourse}/groups/externalId:{groupId}/users/{userId}')\n",
    "    print(r.status_code)"
   ]
  },
  {
   "cell_type": "code",
   "execution_count": null,
   "metadata": {},
   "outputs": [],
   "source": []
  }
 ],
 "metadata": {
  "kernelspec": {
   "display_name": "Python 3",
   "language": "python",
   "name": "python3"
  },
  "language_info": {
   "codemirror_mode": {
    "name": "ipython",
    "version": 3
   },
   "file_extension": ".py",
   "mimetype": "text/x-python",
   "name": "python",
   "nbconvert_exporter": "python",
   "pygments_lexer": "ipython3",
   "version": "3.8.5"
  }
 },
 "nbformat": 4,
 "nbformat_minor": 4
}
