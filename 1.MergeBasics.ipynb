{
 "cells": [
  {
   "cell_type": "code",
   "execution_count": 1,
   "metadata": {},
   "outputs": [],
   "source": [
    "from connections import bb_session\n",
    "bb_s = bb_session()"
   ]
  },
  {
   "cell_type": "code",
   "execution_count": 2,
   "metadata": {},
   "outputs": [],
   "source": []
  },
  {
   "cell_type": "markdown",
   "metadata": {},
   "source": [
    "# Get Users Courses\n",
    "The Building Block pulls all the instructors courses, and then filters them based on certain criteria\n",
    "* Courses with the same term code are shown, based on courseId.\n",
    "* Courses that the user is an instructor.\n",
    "* Courses that aren't children.\n",
    "* Courses that aren't parents. "
   ]
  },
  {
   "cell_type": "code",
   "execution_count": null,
   "metadata": {},
   "outputs": [],
   "source": [
    "parentCourse = 'TST-Merge01'"
   ]
  },
  {
   "cell_type": "code",
   "execution_count": 3,
   "metadata": {},
   "outputs": [],
   "source": [
    "# Get all courses for certain user\n",
    "results = bb_s.get('v1/users/userName:m500d520/courses', \n",
    "                   params={'expand':'course'}).json()['results']"
   ]
  },
  {
   "cell_type": "code",
   "execution_count": 4,
   "metadata": {},
   "outputs": [],
   "source": [
    "#Filter by term code\n",
    "results = [result \n",
    "           for result in results \n",
    "           if result['course']['courseId'].startswith('TST')]"
   ]
  },
  {
   "cell_type": "code",
   "execution_count": 5,
   "metadata": {},
   "outputs": [],
   "source": [
    "#Filter by user role\n",
    "results = [result\n",
    "          for result in results\n",
    "          if result['courseRoleId'] == 'Instructor']"
   ]
  },
  {
   "cell_type": "code",
   "execution_count": 10,
   "metadata": {},
   "outputs": [],
   "source": [
    "#Filter out courses that are already crossListed\n",
    "results = [result\n",
    "          for result in results\n",
    "          if not bb_s.get(f\"v1/courses/courseId:{result['course']['courseId']}/crossListSet\").json()['results']]"
   ]
  },
  {
   "cell_type": "code",
   "execution_count": 11,
   "metadata": {},
   "outputs": [],
   "source": [
    "#List all classes that aren't merged already\n",
    "classes = [(result['course']['courseId'], result['course']['name']) \n",
    "            for result in results\n",
    "            if result['course']['courseId'] != parentCourse]"
   ]
  },
  {
   "cell_type": "code",
   "execution_count": 12,
   "metadata": {},
   "outputs": [
    {
     "data": {
      "text/plain": [
       "[('TST-Merge02', 'An example merge class'),\n",
       " ('TST-Merge01', 'An example merge class'),\n",
       " ('TST-123', 'TESTCourse')]"
      ]
     },
     "execution_count": 12,
     "metadata": {},
     "output_type": "execute_result"
    }
   ],
   "source": [
    "classes"
   ]
  },
  {
   "cell_type": "code",
   "execution_count": 13,
   "metadata": {},
   "outputs": [
    {
     "data": {
      "text/plain": [
       "<Response [201]>"
      ]
     },
     "execution_count": 13,
     "metadata": {},
     "output_type": "execute_result"
    }
   ],
   "source": [
    "r = bb_s.put(f\"v1/courses/courseId:TST-Merge01/children/courseId:TST-Merge02\")"
   ]
  },
  {
   "cell_type": "code",
   "execution_count": 14,
   "metadata": {},
   "outputs": [
    {
     "data": {
      "text/plain": [
       "{'id': '_273814_1',\n",
       " 'parentId': '_273813_1',\n",
       " 'dataSourceId': '_2_1',\n",
       " 'created': '2020-10-01T16:13:19.000Z'}"
      ]
     },
     "execution_count": 14,
     "metadata": {},
     "output_type": "execute_result"
    }
   ],
   "source": [
    "r.json()"
   ]
  },
  {
   "cell_type": "code",
   "execution_count": null,
   "metadata": {},
   "outputs": [],
   "source": []
  }
 ],
 "metadata": {
  "kernelspec": {
   "display_name": "Python 3",
   "language": "python",
   "name": "python3"
  },
  "language_info": {
   "codemirror_mode": {
    "name": "ipython",
    "version": 3
   },
   "file_extension": ".py",
   "mimetype": "text/x-python",
   "name": "python",
   "nbconvert_exporter": "python",
   "pygments_lexer": "ipython3",
   "version": "3.8.5"
  }
 },
 "nbformat": 4,
 "nbformat_minor": 4
}
