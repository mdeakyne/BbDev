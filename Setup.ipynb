{
 "cells": [
  {
   "cell_type": "code",
   "execution_count": 4,
   "metadata": {},
   "outputs": [],
   "source": [
    "from bbrest import BbRest\n",
    "from os import getenv as ge"
   ]
  },
  {
   "cell_type": "code",
   "execution_count": 5,
   "metadata": {},
   "outputs": [],
   "source": [
    "bb = BbRest(url = ge('bburl'),\n",
    "            key = ge('bbkey'),\n",
    "            secret = ge('bbsecret'))"
   ]
  },
  {
   "cell_type": "code",
   "execution_count": 4,
   "metadata": {
    "collapsed": true,
    "jupyter": {
     "outputs_hidden": true
    }
   },
   "outputs": [
    {
     "data": {
      "text/plain": [
       "{'id': '_273813_1',\n",
       " 'uuid': '7c862bdc82be47e08f65675877a486fb',\n",
       " 'externalId': 'TST-Merge01',\n",
       " 'dataSourceId': '_2_1',\n",
       " 'courseId': 'TST-Merge01',\n",
       " 'name': 'An example merge class',\n",
       " 'created': '2020-10-01T14:59:54.000Z',\n",
       " 'modified': '2020-10-01T14:59:54.000Z',\n",
       " 'organization': False,\n",
       " 'ultraStatus': 'Classic',\n",
       " 'allowGuests': False,\n",
       " 'closedComplete': False,\n",
       " 'availability': {'available': 'Yes', 'duration': {'type': 'Continuous'}},\n",
       " 'enrollment': {'type': 'InstructorLed'},\n",
       " 'locale': {'force': False},\n",
       " 'externalAccessUrl': 'https://bbtest2.cc.ku.edu/webapps/blackboard/execute/courseMain?course_id=_273813_1&sc='}"
      ]
     },
     "execution_count": 4,
     "metadata": {},
     "output_type": "execute_result"
    }
   ],
   "source": [
    "bb.CreateCourse(payload={'courseId':'TST-Merge01',\n",
    "                         'name':'An example merge class'}).json()"
   ]
  },
  {
   "cell_type": "code",
   "execution_count": 5,
   "metadata": {
    "collapsed": true,
    "jupyter": {
     "outputs_hidden": true
    }
   },
   "outputs": [
    {
     "data": {
      "text/plain": [
       "{'id': '_273814_1',\n",
       " 'uuid': 'df047f1cff1f4621b95a7593a2d5177e',\n",
       " 'externalId': 'TST-Merge02',\n",
       " 'dataSourceId': '_2_1',\n",
       " 'courseId': 'TST-Merge02',\n",
       " 'name': 'An example merge class',\n",
       " 'created': '2020-10-01T15:00:14.000Z',\n",
       " 'modified': '2020-10-01T15:00:14.000Z',\n",
       " 'organization': False,\n",
       " 'ultraStatus': 'Classic',\n",
       " 'allowGuests': False,\n",
       " 'closedComplete': False,\n",
       " 'availability': {'available': 'Yes', 'duration': {'type': 'Continuous'}},\n",
       " 'enrollment': {'type': 'InstructorLed'},\n",
       " 'locale': {'force': False},\n",
       " 'externalAccessUrl': 'https://bbtest2.cc.ku.edu/webapps/blackboard/execute/courseMain?course_id=_273814_1&sc='}"
      ]
     },
     "execution_count": 5,
     "metadata": {},
     "output_type": "execute_result"
    }
   ],
   "source": [
    "bb.CreateCourse(payload={'courseId':'TST-Merge02',\n",
    "                         'name':'An example merge class'}).json()"
   ]
  },
  {
   "cell_type": "code",
   "execution_count": 7,
   "metadata": {},
   "outputs": [
    {
     "data": {
      "text/plain": [
       "<Response [201]>"
      ]
     },
     "execution_count": 7,
     "metadata": {},
     "output_type": "execute_result"
    }
   ],
   "source": [
    "bb.CreateMembership(courseId='TST-Merge01', userId='m500d520', payload={'courseRoleId':'Instructor'})\n",
    "bb.CreateMembership(courseId='TST-Merge02', userId='m500d520', payload={'courseRoleId':'Instructor'})"
   ]
  },
  {
   "cell_type": "code",
   "execution_count": 29,
   "metadata": {},
   "outputs": [
    {
     "data": {
      "text/plain": [
       "<Response [409]>"
      ]
     },
     "execution_count": 29,
     "metadata": {},
     "output_type": "execute_result"
    }
   ],
   "source": [
    "bb.CreateMembership(courseId='TST-Merge01', userId=robert)\n",
    "bb.CreateMembership(courseId='TST-Merge01', userId=jenine)\n",
    "bb.CreateMembership(courseId='TST-Merge01', userId=brad)\n",
    "bb.CreateMembership(courseId='TST-Merge02', userId=john)\n",
    "bb.CreateMembership(courseId='TST-Merge02', userId=joseph)"
   ]
  },
  {
   "cell_type": "code",
   "execution_count": 34,
   "metadata": {},
   "outputs": [
    {
     "data": {
      "text/plain": [
       "{'status': 403,\n",
       " 'code': 'bb-blackboard-core-chain-of-command-violated',\n",
       " 'message': 'User is a System Admin but the Logged-on User is not a System Admin'}"
      ]
     },
     "execution_count": 34,
     "metadata": {},
     "output_type": "execute_result"
    }
   ],
   "source": [
    "bb.CreateMembership(courseId='TST-Merge01', userId=brad, payload={'courseRoleId':'Student'}).json()"
   ]
  },
  {
   "cell_type": "code",
   "execution_count": 12,
   "metadata": {},
   "outputs": [],
   "source": [
    "results = bb.GetUserMemberships(userId='m500d520', params={'expand':'course'}).json()['results']"
   ]
  },
  {
   "cell_type": "code",
   "execution_count": 22,
   "metadata": {},
   "outputs": [
    {
     "data": {
      "text/plain": [
       "'https://bbtest2.cc.ku.edu/learn/api/public/v1/users/userName:m500d520/courses'"
      ]
     },
     "execution_count": 22,
     "metadata": {},
     "output_type": "execute_result"
    }
   ],
   "source": [
    "bb.GetUserMemberships(userId='m500d520', params={'expand':'course'}).url"
   ]
  },
  {
   "cell_type": "code",
   "execution_count": 21,
   "metadata": {},
   "outputs": [
    {
     "data": {
      "text/plain": [
       "[('TST-Merge02', 'An example merge class'),\n",
       " ('TST-Merge01', 'An example merge class'),\n",
       " ('TST-101', 'Test Course 1'),\n",
       " ('TST-123', 'TESTCourse'),\n",
       " ('TST-109', 'Test Course 9'),\n",
       " ('TST-108', 'Test Course 8'),\n",
       " ('TST-107', 'Test Course 7'),\n",
       " ('TST-106', 'Test Course 6'),\n",
       " ('TST-105', 'Test Course 5'),\n",
       " ('TST-104', 'Test Course 4'),\n",
       " ('TST-103', 'Test Course 3'),\n",
       " ('TST-102', 'Test Course 2')]"
      ]
     },
     "execution_count": 21,
     "metadata": {},
     "output_type": "execute_result"
    }
   ],
   "source": [
    "[(result['course']['courseId'], result['course']['name']) \n",
    " for result in results \n",
    " if result['courseRoleId'] == 'Instructor' and\n",
    " result['course']['courseId'].startswith('TST')]"
   ]
  },
  {
   "cell_type": "code",
   "execution_count": 17,
   "metadata": {},
   "outputs": [
    {
     "data": {
      "text/plain": [
       "{'userId': '_339517_1',\n",
       " 'courseId': '_273814_1',\n",
       " 'dataSourceId': '_2_1',\n",
       " 'created': '2020-10-01T15:01:26.000Z',\n",
       " 'availability': {'available': 'Yes'},\n",
       " 'courseRoleId': 'Instructor',\n",
       " 'lastAccessed': '2020-10-01T15:15:53.000Z',\n",
       " 'course': {'id': '_273814_1',\n",
       "  'uuid': 'df047f1cff1f4621b95a7593a2d5177e',\n",
       "  'externalId': 'TST-Merge02',\n",
       "  'dataSourceId': '_2_1',\n",
       "  'courseId': 'TST-Merge02',\n",
       "  'name': 'An example merge class',\n",
       "  'created': '2020-10-01T15:00:14.000Z',\n",
       "  'organization': False,\n",
       "  'ultraStatus': 'Classic',\n",
       "  'allowGuests': False,\n",
       "  'readOnly': False,\n",
       "  'availability': {'available': 'Yes', 'duration': {'type': 'Continuous'}},\n",
       "  'enrollment': {'type': 'InstructorLed'},\n",
       "  'locale': {'force': False},\n",
       "  'externalAccessUrl': 'https://bbtest2.cc.ku.edu/webapps/blackboard/execute/courseMain?course_id=_273814_1&sc='}}"
      ]
     },
     "execution_count": 17,
     "metadata": {},
     "output_type": "execute_result"
    }
   ],
   "source": [
    "results[0]"
   ]
  },
  {
   "cell_type": "code",
   "execution_count": 25,
   "metadata": {},
   "outputs": [
    {
     "data": {
      "text/plain": [
       "'https://bbtest2.cc.ku.edu/learn/api/public/v1/courses/courseId:TST-Merge01/children/TST-Merge02'"
      ]
     },
     "execution_count": 25,
     "metadata": {},
     "output_type": "execute_result"
    }
   ],
   "source": [
    "bb.AddChildCourse(courseId='TST-Merge01', childCourseId='TST-Merge02').url"
   ]
  },
  {
   "cell_type": "code",
   "execution_count": null,
   "metadata": {},
   "outputs": [],
   "source": []
  },
  {
   "cell_type": "code",
   "execution_count": 26,
   "metadata": {},
   "outputs": [
    {
     "data": {
      "text/plain": [
       "'https://bbtest2.cc.ku.edu/learn/api/public/v2/courses/courseId:TST-101'"
      ]
     },
     "execution_count": 26,
     "metadata": {},
     "output_type": "execute_result"
    }
   ],
   "source": [
    "bb.GetCourse('TST-101').url"
   ]
  },
  {
   "cell_type": "code",
   "execution_count": 28,
   "metadata": {},
   "outputs": [
    {
     "data": {
      "text/plain": [
       "'https://bbtest2.cc.ku.edu/learn/api/public/v1/courses/courseId:TST-101/users'"
      ]
     },
     "execution_count": 28,
     "metadata": {},
     "output_type": "execute_result"
    }
   ],
   "source": [
    "bb.GetCourseMemberships('TST-101').url"
   ]
  },
  {
   "cell_type": "code",
   "execution_count": 35,
   "metadata": {},
   "outputs": [
    {
     "data": {
      "text/plain": [
       "'https://bbtest2.cc.ku.edu/learn/api/public/v1/courses/courseId:TST-101/groups'"
      ]
     },
     "execution_count": 35,
     "metadata": {},
     "output_type": "execute_result"
    }
   ],
   "source": [
    "bb.CreateGroup('TST-101',payload={}).url"
   ]
  },
  {
   "cell_type": "code",
   "execution_count": 37,
   "metadata": {},
   "outputs": [
    {
     "data": {
      "text/plain": [
       "'https://bbtest2.cc.ku.edu/learn/api/public/v2/courses/courseId:TST-101/groups/externalId:TST-102/users/userName:m500d520'"
      ]
     },
     "execution_count": 37,
     "metadata": {},
     "output_type": "execute_result"
    }
   ],
   "source": [
    "bb.CreateGroupMembership(courseId=\"TST-101\", userId='m500d520', groupId='TST-102').url"
   ]
  },
  {
   "cell_type": "code",
   "execution_count": 38,
   "metadata": {},
   "outputs": [
    {
     "data": {
      "text/plain": [
       "'https://bbtest2.cc.ku.edu/learn/api/public/v2/courses/courseId:TST-101'"
      ]
     },
     "execution_count": 38,
     "metadata": {},
     "output_type": "execute_result"
    }
   ],
   "source": [
    "bb.GetCourse('TST-101').url"
   ]
  },
  {
   "cell_type": "code",
   "execution_count": null,
   "metadata": {},
   "outputs": [],
   "source": []
  }
 ],
 "metadata": {
  "kernelspec": {
   "display_name": "Python 3",
   "language": "python",
   "name": "python3"
  },
  "language_info": {
   "codemirror_mode": {
    "name": "ipython",
    "version": 3
   },
   "file_extension": ".py",
   "mimetype": "text/x-python",
   "name": "python",
   "nbconvert_exporter": "python",
   "pygments_lexer": "ipython3",
   "version": "3.8.5"
  }
 },
 "nbformat": 4,
 "nbformat_minor": 4
}
