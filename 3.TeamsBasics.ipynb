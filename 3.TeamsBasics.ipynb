{
 "cells": [
  {
   "cell_type": "code",
   "execution_count": 75,
   "metadata": {},
   "outputs": [],
   "source": [
    "from connections import bb_session, teams_session\n",
    "bb_s = bb_session()\n",
    "ms_s = teams_session()"
   ]
  },
  {
   "cell_type": "markdown",
   "metadata": {},
   "source": [
    "# Teams Creation\n",
    "This is still very much a work in progress, but the script does the following:\n",
    "* Pull membership information from Blackboard\n",
    "* Create an Education Team, with instructors as owners\n",
    "* Create private channels for each child course\n",
    "* Add students to the Team.\n",
    "* Add students to private channels."
   ]
  },
  {
   "cell_type": "code",
   "execution_count": 97,
   "metadata": {},
   "outputs": [],
   "source": [
    "# Pull membership information from Blackboard, adding in Microsoft ID\n",
    "parentCourse = 'TST-Merge01'\n",
    "memberships = bb_s.get(f'v1/courses/courseId:{parentCourse}/users', params={'expand':'user'}).json()['results']\n",
    "memberships = [(member['user']['userName'], \n",
    "                bb_s.get(f\"v2/courses/{member.get('childCourseId', member.get('courseId'))}\").json()['courseId'],\n",
    "                member['courseRoleId'],\n",
    "                ms_s.get(f\"users/{member['user']['userName']}@home.ku.edu\").json()['id'])\n",
    "                for member in memberships]"
   ]
  },
  {
   "cell_type": "code",
   "execution_count": 98,
   "metadata": {},
   "outputs": [
    {
     "data": {
      "text/plain": [
       "[('j944c412',\n",
       "  'TST-Merge02',\n",
       "  'Student',\n",
       "  '27aa6ba6-efec-41d4-9751-c3c49e56e287'),\n",
       " ('j752h984',\n",
       "  'TST-Merge02',\n",
       "  'Student',\n",
       "  '58e4e5f3-2326-420d-a73f-16f1b75b5128'),\n",
       " ('jmeston', 'TST-Merge01', 'Student', '88df618c-a588-4c2a-9b8a-47a3853fe7f0'),\n",
       " ('r684t861',\n",
       "  'TST-Merge01',\n",
       "  'Student',\n",
       "  'f9193265-d10f-4651-8b23-70cda0f518b9'),\n",
       " ('m500d520',\n",
       "  'TST-Merge01',\n",
       "  'Instructor',\n",
       "  'ea8452fa-bfe9-42ea-8543-9f7bacd248a9')]"
      ]
     },
     "execution_count": 98,
     "metadata": {},
     "output_type": "execute_result"
    }
   ],
   "source": [
    "memberships"
   ]
  },
  {
   "cell_type": "code",
   "execution_count": 27,
   "metadata": {},
   "outputs": [],
   "source": [
    "#Pull course information and create team.\n",
    "course_info = bb_s.get(f'v2/courses/courseId:{parentCourse}').json()\n",
    "name = course_info['name']\n",
    "team = {\n",
    "    \"template@odata.bind\": \"https://graph.microsoft.com/beta/teamsTemplates('educationClass')\",\n",
    "    \"displayName\": name,\n",
    "    \"description\": 'A demo education teams site',\n",
    "    \"owners@odata.bind\": [\n",
    "        \"https://graph.microsoft.com/beta/users('ea8452fa-bfe9-42ea-8543-9f7bacd248a9')\"\n",
    "    ]\n",
    "}\n",
    "\n",
    "r = ms_s.post(\"teams\", json=team)\n",
    "url = r.headers['Content-Location'].strip(\")\").strip(\"'\").replace(\"('\", \"/\")[1:]\n",
    "team_info = ms_s.get(url).json()\n",
    "print(team_info)"
   ]
  },
  {
   "cell_type": "code",
   "execution_count": 99,
   "metadata": {},
   "outputs": [
    {
     "name": "stdout",
     "output_type": "stream",
     "text": [
      "adf387ae-628b-443b-8c87-28b8742857fb\n"
     ]
    }
   ],
   "source": [
    "#Save team_id to add users and then channels\n",
    "team_id = team_info['id']\n",
    "print(team_id)"
   ]
  },
  {
   "cell_type": "code",
   "execution_count": 72,
   "metadata": {},
   "outputs": [
    {
     "name": "stdout",
     "output_type": "stream",
     "text": [
      "Added j944c412 to team\n",
      "Added j752h984 to team\n",
      "Added jmeston to team\n",
      "Added r684t861 to team\n"
     ]
    }
   ],
   "source": [
    "#Go through all Students in the class, and add to the team\n",
    "for user in [member[0] for member in memberships if member[2] == 'Student']:\n",
    "    ms_id = member[3]\n",
    "    payload= {\n",
    "            \"@odata.type\": \"#microsoft.graph.aadUserConversationMember\",\n",
    "            \"roles\": [''],\n",
    "            \"user@odata.bind\": f\"https://graph.microsoft.com/beta/users/{ms_id}\"\n",
    "        }\n",
    "    r = ms_s.post(f\"teams/{team_id}/members\",\n",
    "        json=payload\n",
    "    )\n",
    "    if r.status_code == 201:\n",
    "        print(f\"Added {user} to team\")\n",
    "    else:\n",
    "        print(\"Of course something went wrong\")"
   ]
  },
  {
   "cell_type": "code",
   "execution_count": 90,
   "metadata": {},
   "outputs": [],
   "source": [
    "#Divide memberships into specific child courses\n",
    "merge1members = [member for member in memberships if member[1] == 'TST-Merge01' or member[2] == 'Instructor']\n",
    "merge2members = [member for member in memberships if member[1] == 'TST-Merge02' or member[2] == 'Instructor']"
   ]
  },
  {
   "cell_type": "code",
   "execution_count": 93,
   "metadata": {},
   "outputs": [
    {
     "name": "stdout",
     "output_type": "stream",
     "text": [
      "{'@odata.context': \"https://graph.microsoft.com/beta/$metadata#teams('adf387ae-628b-443b-8c87-28b8742857fb')/channels/$entity\", 'id': '19:4fe6eeb8d65548a2b112dcd94bc01c8d@thread.tacv2', 'createdDateTime': None, 'displayName': 'TST-Merge01', 'description': 'A private channel for one course', 'isFavoriteByDefault': None, 'email': '', 'webUrl': 'https://teams.microsoft.com/l/channel/19%3a4fe6eeb8d65548a2b112dcd94bc01c8d%40thread.tacv2/TST-Merge01?groupId=adf387ae-628b-443b-8c87-28b8742857fb&tenantId=3c176536-afe6-43f5-b966-36feabbe3c1a', 'membershipType': 'private', 'moderationSettings': None}\n"
     ]
    }
   ],
   "source": [
    "#Create private channel for first child course.\n",
    "members = []\n",
    "for membership in merge1members:\n",
    "    if membership[2] == 'Student':\n",
    "        roles = [\"member\"]\n",
    "    else:\n",
    "        roles = [\"owner\"]\n",
    "    members.append({\"@odata.type\": \"#microsoft.graph.aadUserConversationMember\",\n",
    "                \"user@odata.bind\": f\"https://graph.microsoft.com/beta/users/{membership[3]}\",\n",
    "                 \"roles\":roles})\n",
    "\n",
    "    channel = {\n",
    "        \"@odata.type\": \"#Microsoft.Teams.Core.channel\",\n",
    "        \"displayName\": 'TST-Merge01',\n",
    "        \"description\": 'A private channel for one course',\n",
    "        \"membershipType\": \"private\",\n",
    "        \"members\": members,\n",
    "    }\n",
    "\n",
    "r = ms_s.post(f\"teams/{team_id}/channels\", json=channel)\n",
    "print(r.json())"
   ]
  },
  {
   "cell_type": "code",
   "execution_count": 94,
   "metadata": {},
   "outputs": [
    {
     "name": "stdout",
     "output_type": "stream",
     "text": [
      "{'@odata.context': \"https://graph.microsoft.com/beta/$metadata#teams('adf387ae-628b-443b-8c87-28b8742857fb')/channels/$entity\", 'id': '19:6cc488f62e504b9a981a158f78be0275@thread.tacv2', 'createdDateTime': None, 'displayName': 'TST-Merge02', 'description': 'A private channel for one course', 'isFavoriteByDefault': None, 'email': '', 'webUrl': 'https://teams.microsoft.com/l/channel/19%3a6cc488f62e504b9a981a158f78be0275%40thread.tacv2/TST-Merge02?groupId=adf387ae-628b-443b-8c87-28b8742857fb&tenantId=3c176536-afe6-43f5-b966-36feabbe3c1a', 'membershipType': 'private', 'moderationSettings': None}\n"
     ]
    }
   ],
   "source": [
    "#Create private channel for second child course.\n",
    "members = []\n",
    "for membership in merge2members:\n",
    "    if membership[2] == 'Student':\n",
    "        roles = [\"member\"]\n",
    "    else:\n",
    "        roles = [\"owner\"]\n",
    "    members.append({\"@odata.type\": \"#microsoft.graph.aadUserConversationMember\",\n",
    "                \"user@odata.bind\": f\"https://graph.microsoft.com/beta/users/{membership[3]}\",\n",
    "                 \"roles\":roles})\n",
    "\n",
    "    channel = {\n",
    "        \"@odata.type\": \"#Microsoft.Teams.Core.channel\",\n",
    "        \"displayName\": 'TST-Merge02',\n",
    "        \"description\": 'A private channel for one course',\n",
    "        \"membershipType\": \"private\",\n",
    "        \"members\": members,\n",
    "    }\n",
    "\n",
    "r = ms_s.post(f\"teams/{team_id}/channels\", json=channel)\n",
    "print(r.json())"
   ]
  }
 ],
 "metadata": {
  "kernelspec": {
   "display_name": "Python 3",
   "language": "python",
   "name": "python3"
  },
  "language_info": {
   "codemirror_mode": {
    "name": "ipython",
    "version": 3
   },
   "file_extension": ".py",
   "mimetype": "text/x-python",
   "name": "python",
   "nbconvert_exporter": "python",
   "pygments_lexer": "ipython3",
   "version": "3.8.5"
  }
 },
 "nbformat": 4,
 "nbformat_minor": 4
}
